{
 "cells": [
  {
   "cell_type": "code",
   "execution_count": 1,
   "metadata": {},
   "outputs": [],
   "source": [
    "import conllu"
   ]
  },
  {
   "cell_type": "code",
   "execution_count": 36,
   "metadata": {},
   "outputs": [],
   "source": [
    "data = open(\"dataset/train-en.conllu\", \"r\", encoding=\"utf-8\").read()"
   ]
  },
  {
   "cell_type": "code",
   "execution_count": 43,
   "metadata": {},
   "outputs": [
    {
     "name": "stdout",
     "output_type": "stream",
     "text": [
      "# text: tell me the weather report for half moon bay\n",
      "# intent: weather/find\n",
      "# slots: 12:26:weather/noun,31:44:location\n",
      "1\ttell\tweather/find\tNoLabel\n",
      "2\tme\tweather/find\tNoLabel\n",
      "3\tthe\tweather/find\tNoLabel\n",
      "4\tweather\tweather/find\tB-weather/noun\n",
      "5\treport\tweather/find\tI-weather/noun\n",
      "6\tfor\tweather/find\tNoLabel\n",
      "7\thalf\tweather/find\tB-location\n",
      "8\tmoon\tweather/find\tI-location\n",
      "9\tbay\tweather/find\tI-location\n",
      "\n",
      "\n"
     ]
    }
   ],
   "source": [
    "print(data[:395])"
   ]
  },
  {
   "cell_type": "code",
   "execution_count": 44,
   "metadata": {},
   "outputs": [
    {
     "data": {
      "text/plain": [
       "30521"
      ]
     },
     "execution_count": 44,
     "metadata": {},
     "output_type": "execute_result"
    }
   ],
   "source": [
    "sentences = conllu.parse(data)\n",
    "len(sentences)"
   ]
  },
  {
   "cell_type": "code",
   "execution_count": 55,
   "metadata": {},
   "outputs": [
    {
     "name": "stdout",
     "output_type": "stream",
     "text": [
      "{'id': 1, 'form': 'tell', 'lemma': 'weather/find', 'upos': 'NoLabel'}\n",
      "{'id': 2, 'form': 'me', 'lemma': 'weather/find', 'upos': 'NoLabel'}\n",
      "{'id': 3, 'form': 'the', 'lemma': 'weather/find', 'upos': 'NoLabel'}\n",
      "{'id': 4, 'form': 'weather', 'lemma': 'weather/find', 'upos': 'B-weather/noun'}\n",
      "{'id': 5, 'form': 'report', 'lemma': 'weather/find', 'upos': 'I-weather/noun'}\n",
      "{'id': 6, 'form': 'for', 'lemma': 'weather/find', 'upos': 'NoLabel'}\n",
      "{'id': 7, 'form': 'half', 'lemma': 'weather/find', 'upos': 'B-location'}\n",
      "{'id': 8, 'form': 'moon', 'lemma': 'weather/find', 'upos': 'I-location'}\n",
      "{'id': 9, 'form': 'bay', 'lemma': 'weather/find', 'upos': 'I-location'}\n"
     ]
    }
   ],
   "source": [
    "[print(repr(sentences[0][i])) for i in range(9)];"
   ]
  }
 ],
 "metadata": {
  "kernelspec": {
   "display_name": "Python 3.9.13 ('base')",
   "language": "python",
   "name": "python3"
  },
  "language_info": {
   "codemirror_mode": {
    "name": "ipython",
    "version": 3
   },
   "file_extension": ".py",
   "mimetype": "text/x-python",
   "name": "python",
   "nbconvert_exporter": "python",
   "pygments_lexer": "ipython3",
   "version": "3.9.13"
  },
  "orig_nbformat": 4,
  "vscode": {
   "interpreter": {
    "hash": "d1cd62c06d952fd0ca7bd743365a41f7bf7600eced36fe275e0c3de4dc00272a"
   }
  }
 },
 "nbformat": 4,
 "nbformat_minor": 2
}
